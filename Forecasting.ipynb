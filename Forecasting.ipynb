{
  "nbformat": 4,
  "nbformat_minor": 0,
  "metadata": {
    "colab": {
      "name": "Forecasting.ipynb",
      "provenance": [],
      "collapsed_sections": [],
      "toc_visible": true,
      "mount_file_id": "1q0tY9D0uOiRO08DUAQr6vpu8lo6J9xTk",
      "authorship_tag": "ABX9TyPcin2ZepPxmcQVCa3mV5rW",
      "include_colab_link": true
    },
    "kernelspec": {
      "name": "python3",
      "display_name": "Python 3"
    }
  },
  "cells": [
    {
      "cell_type": "markdown",
      "metadata": {
        "id": "view-in-github",
        "colab_type": "text"
      },
      "source": [
        "<a href=\"https://colab.research.google.com/github/Harshavardhan1005/Forescasting/blob/main/Forecasting.ipynb\" target=\"_parent\"><img src=\"https://colab.research.google.com/assets/colab-badge.svg\" alt=\"Open In Colab\"/></a>"
      ]
    },
    {
      "cell_type": "markdown",
      "metadata": {
        "id": "DgMpADtfk2ET"
      },
      "source": [
        "In the field of Data science/ Machine learning, most of the real life problems are based on prediction of future (Time Series forecasting). In this notebook Time Series Data is forecasted using \n",
        "1. Statistical Model\n",
        "2. Machine Learning Model\n",
        "3. Deep Learning Model\n",
        "\n"
      ]
    },
    {
      "cell_type": "code",
      "metadata": {
        "id": "ESE5deWSaJAM",
        "colab": {
          "base_uri": "https://localhost:8080/"
        },
        "outputId": "8612a211-4264-4020-d1c3-729f1347a94e"
      },
      "source": [
        "# Import all the necessary libraries\n",
        "import pandas as pd\n",
        "import numpy as np\n",
        "import seaborn as sns\n",
        "import matplotlib.pyplot as plt\n",
        "import sklearn.gaussian_process as gp\n",
        "import statsmodels.api as sm\n",
        "import warnings\n",
        "warnings.filterwarnings('ignore')\n",
        "\n",
        "from statsmodels.graphics.tsaplots import plot_acf,plot_pacf\n",
        "from statsmodels.tsa.stattools import acf, pacf, adfuller\n",
        "from statsmodels.tsa.seasonal import seasonal_decompose\n",
        "from statsmodels.tsa.arima_model import ARIMA\n",
        "from sklearn.feature_selection import VarianceThreshold\n",
        "from sklearn.preprocessing import StandardScaler, MinMaxScaler\n",
        "from sklearn.ensemble import RandomForestRegressor\n",
        "from sklearn.model_selection import RandomizedSearchCV\n",
        "from xgboost import XGBRegressor\n",
        "from sklearn.metrics import mean_squared_error\n",
        "from keras.models import Sequential\n",
        "from keras.layers import Dense,LSTM, Dropout\n",
        "from keras.preprocessing.sequence import TimeseriesGenerator"
      ],
      "execution_count": null,
      "outputs": [
        {
          "output_type": "stream",
          "text": [
            "/usr/local/lib/python3.6/dist-packages/statsmodels/tools/_testing.py:19: FutureWarning: pandas.util.testing is deprecated. Use the functions in the public API at pandas.testing instead.\n",
            "  import pandas.util.testing as tm\n"
          ],
          "name": "stderr"
        }
      ]
    },
    {
      "cell_type": "code",
      "metadata": {
        "id": "jU_m89-RbVA0"
      },
      "source": [
        "# Reading the data\n",
        "df = pd.read_csv('/content/drive/MyDrive/Forecast/Stainless-Steel-Prices-Forecasty-Assignment.csv', index_col='Date', parse_dates=True)"
      ],
      "execution_count": null,
      "outputs": []
    },
    {
      "cell_type": "code",
      "metadata": {
        "colab": {
          "base_uri": "https://localhost:8080/"
        },
        "id": "Tbq9wZLYrRIs",
        "outputId": "e4d24b63-9951-48ca-c180-d289769a258a"
      },
      "source": [
        "# Shape of dataset with rows and columns\n",
        "df.shape"
      ],
      "execution_count": null,
      "outputs": [
        {
          "output_type": "execute_result",
          "data": {
            "text/plain": [
              "(84, 19)"
            ]
          },
          "metadata": {
            "tags": []
          },
          "execution_count": 3
        }
      ]
    },
    {
      "cell_type": "code",
      "metadata": {
        "colab": {
          "base_uri": "https://localhost:8080/",
          "height": 340
        },
        "id": "7zn1rrgRbZg4",
        "outputId": "b6b66f6e-1715-4dc2-9285-02c773eb81a1"
      },
      "source": [
        "# Display top 5 records\n",
        "df.head()"
      ],
      "execution_count": null,
      "outputs": [
        {
          "output_type": "execute_result",
          "data": {
            "text/html": [
              "<div>\n",
              "<style scoped>\n",
              "    .dataframe tbody tr th:only-of-type {\n",
              "        vertical-align: middle;\n",
              "    }\n",
              "\n",
              "    .dataframe tbody tr th {\n",
              "        vertical-align: top;\n",
              "    }\n",
              "\n",
              "    .dataframe thead th {\n",
              "        text-align: right;\n",
              "    }\n",
              "</style>\n",
              "<table border=\"1\" class=\"dataframe\">\n",
              "  <thead>\n",
              "    <tr style=\"text-align: right;\">\n",
              "      <th></th>\n",
              "      <th>StainlessSteelPrice</th>\n",
              "      <th>Steel_Inventory_M_USD</th>\n",
              "      <th>Steel_Orders_M_USD</th>\n",
              "      <th>IronOre_Global_USD</th>\n",
              "      <th>CoalAustralia_Global_USD</th>\n",
              "      <th>Energy_Index</th>\n",
              "      <th>Nickel_Global_USD</th>\n",
              "      <th>Zinc_Global_USD</th>\n",
              "      <th>Freight_Transport_Index</th>\n",
              "      <th>WTI_Crude_Global_USD</th>\n",
              "      <th>Baltic_Dry_Index</th>\n",
              "      <th>BCI_China</th>\n",
              "      <th>BCI_Europe</th>\n",
              "      <th>BCI_US</th>\n",
              "      <th>CLI_China</th>\n",
              "      <th>CLI_Europe</th>\n",
              "      <th>CLI_US</th>\n",
              "      <th>PMI_US_Manufacturing</th>\n",
              "      <th>Copper_Global_USD</th>\n",
              "    </tr>\n",
              "    <tr>\n",
              "      <th>Date</th>\n",
              "      <th></th>\n",
              "      <th></th>\n",
              "      <th></th>\n",
              "      <th></th>\n",
              "      <th></th>\n",
              "      <th></th>\n",
              "      <th></th>\n",
              "      <th></th>\n",
              "      <th></th>\n",
              "      <th></th>\n",
              "      <th></th>\n",
              "      <th></th>\n",
              "      <th></th>\n",
              "      <th></th>\n",
              "      <th></th>\n",
              "      <th></th>\n",
              "      <th></th>\n",
              "      <th></th>\n",
              "      <th></th>\n",
              "    </tr>\n",
              "  </thead>\n",
              "  <tbody>\n",
              "    <tr>\n",
              "      <th>2013-07-01</th>\n",
              "      <td>0.827352</td>\n",
              "      <td>20575</td>\n",
              "      <td>10568</td>\n",
              "      <td>127.191304</td>\n",
              "      <td>82.222360</td>\n",
              "      <td>227.022942</td>\n",
              "      <td>13750.31522</td>\n",
              "      <td>1837.619565</td>\n",
              "      <td>-0.4</td>\n",
              "      <td>104.545217</td>\n",
              "      <td>1062</td>\n",
              "      <td>98.80018</td>\n",
              "      <td>99.64265</td>\n",
              "      <td>100.1044</td>\n",
              "      <td>101.1423</td>\n",
              "      <td>99.43615</td>\n",
              "      <td>100.6230</td>\n",
              "      <td>50.9</td>\n",
              "      <td>6906.64</td>\n",
              "    </tr>\n",
              "    <tr>\n",
              "      <th>2013-08-01</th>\n",
              "      <td>0.760221</td>\n",
              "      <td>20609</td>\n",
              "      <td>10821</td>\n",
              "      <td>137.055000</td>\n",
              "      <td>82.221429</td>\n",
              "      <td>232.234194</td>\n",
              "      <td>14308.26190</td>\n",
              "      <td>1896.392857</td>\n",
              "      <td>0.5</td>\n",
              "      <td>106.546364</td>\n",
              "      <td>1132</td>\n",
              "      <td>99.04874</td>\n",
              "      <td>99.91766</td>\n",
              "      <td>100.3962</td>\n",
              "      <td>101.1938</td>\n",
              "      <td>99.64082</td>\n",
              "      <td>100.6545</td>\n",
              "      <td>55.4</td>\n",
              "      <td>7186.25</td>\n",
              "    </tr>\n",
              "    <tr>\n",
              "      <th>2013-09-01</th>\n",
              "      <td>0.784715</td>\n",
              "      <td>20761</td>\n",
              "      <td>10774</td>\n",
              "      <td>134.185714</td>\n",
              "      <td>83.295918</td>\n",
              "      <td>234.335594</td>\n",
              "      <td>13801.39286</td>\n",
              "      <td>1846.880952</td>\n",
              "      <td>0.1</td>\n",
              "      <td>106.313809</td>\n",
              "      <td>2003</td>\n",
              "      <td>99.27196</td>\n",
              "      <td>100.18490</td>\n",
              "      <td>100.5363</td>\n",
              "      <td>101.2066</td>\n",
              "      <td>99.84383</td>\n",
              "      <td>100.6646</td>\n",
              "      <td>55.7</td>\n",
              "      <td>7159.27</td>\n",
              "    </tr>\n",
              "    <tr>\n",
              "      <th>2013-10-01</th>\n",
              "      <td>0.769293</td>\n",
              "      <td>20735</td>\n",
              "      <td>11291</td>\n",
              "      <td>132.572727</td>\n",
              "      <td>85.443634</td>\n",
              "      <td>229.393932</td>\n",
              "      <td>14117.65217</td>\n",
              "      <td>1884.836957</td>\n",
              "      <td>-0.1</td>\n",
              "      <td>100.500435</td>\n",
              "      <td>1504</td>\n",
              "      <td>99.40488</td>\n",
              "      <td>100.36330</td>\n",
              "      <td>100.5771</td>\n",
              "      <td>101.1835</td>\n",
              "      <td>100.02300</td>\n",
              "      <td>100.6666</td>\n",
              "      <td>56.2</td>\n",
              "      <td>7203.02</td>\n",
              "    </tr>\n",
              "    <tr>\n",
              "      <th>2013-11-01</th>\n",
              "      <td>0.750242</td>\n",
              "      <td>20854</td>\n",
              "      <td>11559</td>\n",
              "      <td>136.323810</td>\n",
              "      <td>88.363265</td>\n",
              "      <td>225.437049</td>\n",
              "      <td>13684.01190</td>\n",
              "      <td>1866.416667</td>\n",
              "      <td>2.1</td>\n",
              "      <td>93.812381</td>\n",
              "      <td>1821</td>\n",
              "      <td>99.36221</td>\n",
              "      <td>100.49830</td>\n",
              "      <td>100.5459</td>\n",
              "      <td>101.1283</td>\n",
              "      <td>100.17150</td>\n",
              "      <td>100.6744</td>\n",
              "      <td>56.4</td>\n",
              "      <td>7070.65</td>\n",
              "    </tr>\n",
              "  </tbody>\n",
              "</table>\n",
              "</div>"
            ],
            "text/plain": [
              "            StainlessSteelPrice  ...  Copper_Global_USD \n",
              "Date                             ...                    \n",
              "2013-07-01             0.827352  ...             6906.64\n",
              "2013-08-01             0.760221  ...             7186.25\n",
              "2013-09-01             0.784715  ...             7159.27\n",
              "2013-10-01             0.769293  ...             7203.02\n",
              "2013-11-01             0.750242  ...             7070.65\n",
              "\n",
              "[5 rows x 19 columns]"
            ]
          },
          "metadata": {
            "tags": []
          },
          "execution_count": 4
        }
      ]
    },
    {
      "cell_type": "code",
      "metadata": {
        "colab": {
          "base_uri": "https://localhost:8080/"
        },
        "id": "XpFsMmJyNbX8",
        "outputId": "81619e8f-b187-4be7-de4f-e25a40a39127"
      },
      "source": [
        "# Getting some information of StainlessSteelPrices\n",
        "df.StainlessSteelPrice.describe()"
      ],
      "execution_count": null,
      "outputs": [
        {
          "output_type": "execute_result",
          "data": {
            "text/plain": [
              "count    84.000000\n",
              "mean      0.810715\n",
              "std       0.143444\n",
              "min       0.499859\n",
              "25%       0.743778\n",
              "50%       0.812157\n",
              "75%       0.893690\n",
              "max       1.075014\n",
              "Name: StainlessSteelPrice, dtype: float64"
            ]
          },
          "metadata": {
            "tags": []
          },
          "execution_count": 5
        }
      ]
    },
    {
      "cell_type": "code",
      "metadata": {
        "colab": {
          "base_uri": "https://localhost:8080/"
        },
        "id": "nbtW8WamfMJ_",
        "outputId": "1d39af8f-4e71-419d-ded5-5e075d5d92c1"
      },
      "source": [
        "# Check if there are any null values\n",
        "df.isnull().sum()"
      ],
      "execution_count": null,
      "outputs": [
        {
          "output_type": "execute_result",
          "data": {
            "text/plain": [
              "StainlessSteelPrice         0\n",
              "Steel_Inventory_M_USD       0\n",
              "Steel_Orders_M_USD          0\n",
              "IronOre_Global_USD          0\n",
              "CoalAustralia_Global_USD    0\n",
              "Energy_Index                0\n",
              "Nickel_Global_USD           0\n",
              "Zinc_Global_USD             0\n",
              "Freight_Transport_Index     0\n",
              "WTI_Crude_Global_USD        0\n",
              "Baltic_Dry_Index            0\n",
              "BCI_China                   0\n",
              "BCI_Europe                  0\n",
              "BCI_US                      0\n",
              "CLI_China                   0\n",
              "CLI_Europe                  0\n",
              "CLI_US                      0\n",
              "PMI_US_Manufacturing        0\n",
              "Copper_Global_USD           0\n",
              "dtype: int64"
            ]
          },
          "metadata": {
            "tags": []
          },
          "execution_count": 6
        }
      ]
    },
    {
      "cell_type": "code",
      "metadata": {
        "colab": {
          "base_uri": "https://localhost:8080/",
          "height": 295
        },
        "id": "lBVc-_-VtUWK",
        "outputId": "b6ddd949-2fea-436c-c3f1-4c73e3bf13af"
      },
      "source": [
        "# Plot StainlessSteelPrices\n",
        "plt.plot(df['StainlessSteelPrice'])\n",
        "plt.title('StainlessSteelPrices from 2013-07-01 to 2020-06-01')\n",
        "plt.xlabel('Date')\n",
        "plt.ylabel('StainlessSteelPrice')\n",
        "plt.show()"
      ],
      "execution_count": null,
      "outputs": [
        {
          "output_type": "display_data",
          "data": {
            "image/png": "[encoded data removed]",
            "text/plain": [
              "<Figure size 432x288 with 1 Axes>"
            ]
          },
          "metadata": {
            "tags": [],
            "needs_background": "light"
          }
        }
      ]
    },
    {
      "cell_type": "markdown",
      "metadata": {
        "id": "_HurpgcNKB4c"
      },
      "source": [
        "From the above graph it is observed that from year 2018 to 2020 there exist a seasonal behaviour."
      ]
    },
    {
      "cell_type": "code",
      "metadata": {
        "id": "PFZCbf4KtJjE"
      },
      "source": [
        "# Independent and Dependent variables\n",
        "x = df.iloc[:,1:]\n",
        "y = df.iloc[:,0:1]"
      ],
      "execution_count": null,
      "outputs": []
    },
    {
      "cell_type": "code",
      "metadata": {
        "id": "D-JWBLLAqUXw"
      },
      "source": [
        "# Created for comparing the final results\n",
        "final = pd.DataFrame(df['StainlessSteelPrice'])\n",
        "output = pd.DataFrame(df['StainlessSteelPrice'].iloc[-12:])"
      ],
      "execution_count": null,
      "outputs": []
    },
    {
      "cell_type": "code",
      "metadata": {
        "id": "KyzVbgYArlpV"
      },
      "source": [
        "# Mean Absolute Percentage Error\n",
        "def mean_absolute_percentage_error(test,predictions): \n",
        "    test = np.array(test)\n",
        "    predictions = np.array(predictions)\n",
        "    return np.mean(np.abs((test - predictions) / test)) * 100"
      ],
      "execution_count": null,
      "outputs": []
    },
    {
      "cell_type": "code",
      "metadata": {
        "id": "5XOHre5LvTFX"
      },
      "source": [
        "# Augmented Dickey-Fuller test\n",
        "def adf_test(y):\n",
        "    print('Results of Augmented Dickey-Fuller test:')\n",
        "    dftest = adfuller(y, autolag='AIC')\n",
        "    dfoutput = pd.Series(dftest[0:4], index=['test statistic', 'p-value', '# of lags', '# of observations'])\n",
        "    for key, value in dftest[4].items():\n",
        "        dfoutput['Critical Value ({})'.format(key)] = value\n",
        "\n",
        "    print(dfoutput)\n",
        "    print(\"------------------------------\")\n",
        "    pvalue = dftest[1]\n",
        "    if pvalue < 0.05:\n",
        "        print('p-value = %.4f. The series is likely stationary.' % pvalue)\n",
        "    else:\n",
        "        print('p-value = %.4f. The series is likely non-stationary.' % pvalue)\n",
        "    "
      ],
      "execution_count": null,
      "outputs": []
    },
    {
      "cell_type": "code",
      "metadata": {
        "id": "SAqpEYsawEwK"
      },
      "source": [
        "# Train test split\n",
        "def timeseries_train_test_split(x, y, test_size):\n",
        "    # get the index after which test set starts\n",
        "    index = len(x)-int(len(x)*(test_size))\n",
        "    x_train = x.iloc[:index]\n",
        "    y_train = y.iloc[:index]\n",
        "    x_test = x.iloc[index:]\n",
        "    y_test = y.iloc[index:]\n",
        "    \n",
        "    return x_train, x_test, y_train, y_test"
      ],
      "execution_count": null,
      "outputs": []
    },
    {
      "cell_type": "markdown",
      "metadata": {
        "id": "2zSg3OhqldUN"
      },
      "source": [
        "# Statistical Model"
      ]
    },
    {
      "cell_type": "markdown",
      "metadata": {
        "id": "FzuH2iPf9_uT"
      },
      "source": [
        "Time series decomposition allows to decompose out time series into distinct components (Trend,Seasonality and Noise)"
      ]
    },
    {
      "cell_type": "code",
      "metadata": {
        "colab": {
          "base_uri": "https://localhost:8080/",
          "height": 282
        },
        "id": "MuYbnyvfmubr",
        "outputId": "961f6d46-8d86-43cb-9c51-ccde8cf076a7"
      },
      "source": [
        "# Seasonal Decomposotion\n",
        "decomposition = seasonal_decompose(df['StainlessSteelPrice'])\n",
        "seasonal = decomposition.seasonal\n",
        "plt.plot(seasonal,label='seasonal')\n",
        "plt.legend(loc='best')"
      ],
      "execution_count": null,
      "outputs": [
        {
          "output_type": "execute_result",
          "data": {
            "text/plain": [
              "<matplotlib.legend.Legend at 0x7fdec255cf60>"
            ]
          },
          "metadata": {
            "tags": []
          },
          "execution_count": 13
        },
        {
          "output_type": "display_data",
          "data": {
            "image/png": "[encoded data removed]",
            "text/plain": [
              "<Figure size 432x288 with 1 Axes>"
            ]
          },
          "metadata": {
            "tags": [],
            "needs_background": "light"
          }
        }
      ]
    },
    {
      "cell_type": "markdown",
      "metadata": {
        "id": "KcUeUzHo37uO"
      },
      "source": [
        "Augmented Dickey Fuller test is the more accurate assessment test to check if the time series is stationary. "
      ]
    },
    {
      "cell_type": "code",
      "metadata": {
        "colab": {
          "base_uri": "https://localhost:8080/"
        },
        "id": "tLAJk1oExVa9",
        "outputId": "b7fc0431-6be3-4342-fcd6-c06a592602dc"
      },
      "source": [
        "# Check if data is stationary\n",
        "adf_test(df['StainlessSteelPrice'])"
      ],
      "execution_count": null,
      "outputs": [
        {
          "output_type": "stream",
          "text": [
            "Results of Augmented Dickey-Fuller test:\n",
            "test statistic          -2.346564\n",
            "p-value                  0.157390\n",
            "# of lags                1.000000\n",
            "# of observations       82.000000\n",
            "Critical Value (1%)     -3.512738\n",
            "Critical Value (5%)     -2.897490\n",
            "Critical Value (10%)    -2.585949\n",
            "dtype: float64\n",
            "------------------------------\n",
            "p-value = 0.1574. The series is likely non-stationary.\n"
          ],
          "name": "stdout"
        }
      ]
    },
    {
      "cell_type": "markdown",
      "metadata": {
        "id": "V0YqkdBa93AF"
      },
      "source": [
        "p-value = 0.157390 > 0.05: Fail to reject the null hypothesis (H0), the data has a unit root and is non-stationary (with 95% confidence).\n",
        "\n",
        "The time series is not stationary and will require differencing to make it stationary, at least a difference order of 1.\n"
      ]
    },
    {
      "cell_type": "code",
      "metadata": {
        "id": "YmIAKylixVeP"
      },
      "source": [
        "# Differencing (Integrated of order 1 denoted by d)\n",
        "df['first_difference'] = df['StainlessSteelPrice'] - df['StainlessSteelPrice'].shift(1)"
      ],
      "execution_count": null,
      "outputs": []
    },
    {
      "cell_type": "code",
      "metadata": {
        "colab": {
          "base_uri": "https://localhost:8080/"
        },
        "id": "k2AZcIl6xhNx",
        "outputId": "9d5a1c99-fdb1-4f82-c03a-403107ccd907"
      },
      "source": [
        "# Check for stationary\n",
        "adf_test(df['first_difference'].dropna())"
      ],
      "execution_count": null,
      "outputs": [
        {
          "output_type": "stream",
          "text": [
            "Results of Augmented Dickey-Fuller test:\n",
            "test statistic         -6.431417e+00\n",
            "p-value                 1.693719e-08\n",
            "# of lags               0.000000e+00\n",
            "# of observations       8.200000e+01\n",
            "Critical Value (1%)    -3.512738e+00\n",
            "Critical Value (5%)    -2.897490e+00\n",
            "Critical Value (10%)   -2.585949e+00\n",
            "dtype: float64\n",
            "------------------------------\n",
            "p-value = 0.0000. The series is likely stationary.\n"
          ],
          "name": "stdout"
        }
      ]
    },
    {
      "cell_type": "markdown",
      "metadata": {
        "id": "1JlK_6Yy-Q85"
      },
      "source": [
        "p-value < 0.05: the difference order of 1 of StainlessSteelPrice is stationary (with confidence level of 95%)"
      ]
    },
    {
      "cell_type": "markdown",
      "metadata": {
        "id": "9IMuTpWL8Sgs"
      },
      "source": [
        "ARIMA model can be characterized by 3 terms:\n",
        "1. p is the order of AR term\n",
        "2. d is the number of differencing required to make the time series stationary\n",
        "3. q is the order of MA term\n",
        "\n",
        "In our case first order differencing makes the data stationary so we can start d value as 1.\n",
        "\n",
        "p and q values are calculated from  Autocorrelation Function (ACF) and Partial Autocorrelation Function (PACF) plots.\n"
      ]
    },
    {
      "cell_type": "code",
      "metadata": {
        "colab": {
          "base_uri": "https://localhost:8080/",
          "height": 281
        },
        "id": "vy9S6QXa-1pj",
        "outputId": "7716dec3-88e9-40ad-b412-99c5cc69a398"
      },
      "source": [
        "# Partial Autocorrelation Plot\n",
        "plot_pacf(df['first_difference'].dropna());"
      ],
      "execution_count": null,
      "outputs": [
        {
          "output_type": "display_data",
          "data": {
            "image/png": "[encoded data removed]",
            "text/plain": [
              "<Figure size 432x288 with 1 Axes>"
            ]
          },
          "metadata": {
            "tags": [],
            "needs_background": "light"
          }
        }
      ]
    },
    {
      "cell_type": "markdown",
      "metadata": {
        "id": "OJ1zxxObFQQy"
      },
      "source": [
        "From the above plot lag 1 is above the significant line so we can start p value with 1"
      ]
    },
    {
      "cell_type": "code",
      "metadata": {
        "colab": {
          "base_uri": "https://localhost:8080/",
          "height": 281
        },
        "id": "EtVPbYXr-pDU",
        "outputId": "3a307fdc-8679-406e-b4e7-9b7780128269"
      },
      "source": [
        "# Auto correlation plot\n",
        "plot_acf(df['first_difference'].dropna());"
      ],
      "execution_count": null,
      "outputs": [
        {
          "output_type": "display_data",
          "data": {
            "image/png": "[encoded data removed]",
            "text/plain": [
              "<Figure size 432x288 with 1 Axes>"
            ]
          },
          "metadata": {
            "tags": [],
            "needs_background": "light"
          }
        }
      ]
    },
    {
      "cell_type": "markdown",
      "metadata": {
        "id": "5Q0m3o1SFXR8"
      },
      "source": [
        "From the above plot there is no exact exponential decrease so we can try with q vaue as o or 1"
      ]
    },
    {
      "cell_type": "code",
      "metadata": {
        "id": "DXNm-EoNzBdB"
      },
      "source": [
        "# ARIMA model\n",
        "train = y[0:72]\n",
        "test = y[72:]\n",
        "\n",
        "model = ARIMA(train,order=(1,1,1))\n",
        "model = model.fit()"
      ],
      "execution_count": null,
      "outputs": []
    },
    {
      "cell_type": "code",
      "metadata": {
        "id": "TTloW_NqsN4h"
      },
      "source": [
        "# Predictions with ARIMA model\n",
        "pred = model.predict(start=71,end=84, dynamic=True)"
      ],
      "execution_count": null,
      "outputs": []
    },
    {
      "cell_type": "code",
      "metadata": {
        "colab": {
          "base_uri": "https://localhost:8080/",
          "height": 312
        },
        "id": "MK5Ac2K3WxRF",
        "outputId": "68ce5778-101e-486e-ea92-72e8fc93cf19"
      },
      "source": [
        "# Visualizing results of ARIMA model\n",
        "plt.plot(df['StainlessSteelPrice'],label='Actual Values')\n",
        "plt.plot(pred,color='red',label='Test Data prediction')\n",
        "plt.xlabel('Date')\n",
        "plt.ylabel('steel prices')\n",
        "plt.legend(loc='best')\n",
        "plt.title('Prediction of test data using SARIMAX model')"
      ],
      "execution_count": null,
      "outputs": [
        {
          "output_type": "execute_result",
          "data": {
            "text/plain": [
              "Text(0.5, 1.0, 'Prediction of test data using SARIMAX model')"
            ]
          },
          "metadata": {
            "tags": []
          },
          "execution_count": 21
        },
        {
          "output_type": "display_data",
          "data": {
            "image/png": "[encoded data removed]",
            "text/plain": [
              "<Figure size 432x288 with 1 Axes>"
            ]
          },
          "metadata": {
            "tags": [],
            "needs_background": "light"
          }
        }
      ]
    },
    {
      "cell_type": "markdown",
      "metadata": {
        "id": "wNoarsunIRf9"
      },
      "source": [
        "From the above plot it is clear that prediction obtained from ARIMA is not correct.So it can be further checked for seasonality and use SARIMAX.\n",
        "\n",
        "Tried changing the values of p,q,d using using autoarima by choosing the value having least AIC but there is no significant difference in the output."
      ]
    },
    {
      "cell_type": "code",
      "metadata": {
        "id": "K_cnTYEJi7BG",
        "colab": {
          "base_uri": "https://localhost:8080/",
          "height": 465
        },
        "outputId": "5c5f0d4d-67a8-4d1d-a972-750e86ed31f1"
      },
      "source": [
        "# SARIMAX model\n",
        "model = sm.tsa.statespace.SARIMAX(train,order=(1, 1, 1),seasonal_order=(1,1,1,12))\n",
        "model_fit = model.fit()\n",
        "model_fit.summary()"
      ],
      "execution_count": null,
      "outputs": [
        {
          "output_type": "execute_result",
          "data": {
            "text/html": [
              "<table class=\"simpletable\">\n",
              "<caption>Statespace Model Results</caption>\n",
              "<tr>\n",
              "  <th>Dep. Variable:</th>         <td>StainlessSteelPrice</td>      <th>  No. Observations:  </th>    <td>72</td>   \n",
              "</tr>\n",
              "<tr>\n",
              "  <th>Model:</th>           <td>SARIMAX(1, 1, 1)x(1, 1, 1, 12)</td> <th>  Log Likelihood     </th>  <td>84.893</td> \n",
              "</tr>\n",
              "<tr>\n",
              "  <th>Date:</th>                   <td>Wed, 17 Feb 2021</td>        <th>  AIC                </th> <td>-159.785</td>\n",
              "</tr>\n",
              "<tr>\n",
              "  <th>Time:</th>                       <td>08:36:30</td>            <th>  BIC                </th> <td>-149.398</td>\n",
              "</tr>\n",
              "<tr>\n",
              "  <th>Sample:</th>                    <td>07-01-2013</td>           <th>  HQIC               </th> <td>-155.730</td>\n",
              "</tr>\n",
              "<tr>\n",
              "  <th></th>                          <td>- 06-01-2019</td>          <th>                     </th>     <td> </td>   \n",
              "</tr>\n",
              "<tr>\n",
              "  <th>Covariance Type:</th>               <td>opg</td>              <th>                     </th>     <td> </td>   \n",
              "</tr>\n",
              "</table>\n",
              "<table class=\"simpletable\">\n",
              "<tr>\n",
              "      <td></td>        <th>coef</th>     <th>std err</th>      <th>z</th>      <th>P>|z|</th>  <th>[0.025</th>    <th>0.975]</th>  \n",
              "</tr>\n",
              "<tr>\n",
              "  <th>ar.L1</th>    <td>    0.5370</td> <td>    0.399</td> <td>    1.347</td> <td> 0.178</td> <td>   -0.244</td> <td>    1.318</td>\n",
              "</tr>\n",
              "<tr>\n",
              "  <th>ma.L1</th>    <td>   -0.2599</td> <td>    0.444</td> <td>   -0.585</td> <td> 0.558</td> <td>   -1.131</td> <td>    0.611</td>\n",
              "</tr>\n",
              "<tr>\n",
              "  <th>ar.S.L12</th> <td>   -0.1322</td> <td>    0.237</td> <td>   -0.558</td> <td> 0.577</td> <td>   -0.597</td> <td>    0.332</td>\n",
              "</tr>\n",
              "<tr>\n",
              "  <th>ma.S.L12</th> <td>   -0.7089</td> <td>    0.366</td> <td>   -1.935</td> <td> 0.053</td> <td>   -1.427</td> <td>    0.009</td>\n",
              "</tr>\n",
              "<tr>\n",
              "  <th>sigma2</th>   <td>    0.0028</td> <td>    0.001</td> <td>    3.679</td> <td> 0.000</td> <td>    0.001</td> <td>    0.004</td>\n",
              "</tr>\n",
              "</table>\n",
              "<table class=\"simpletable\">\n",
              "<tr>\n",
              "  <th>Ljung-Box (Q):</th>          <td>48.41</td> <th>  Jarque-Bera (JB):  </th> <td>1.76</td>\n",
              "</tr>\n",
              "<tr>\n",
              "  <th>Prob(Q):</th>                <td>0.17</td>  <th>  Prob(JB):          </th> <td>0.42</td>\n",
              "</tr>\n",
              "<tr>\n",
              "  <th>Heteroskedasticity (H):</th> <td>0.87</td>  <th>  Skew:              </th> <td>0.24</td>\n",
              "</tr>\n",
              "<tr>\n",
              "  <th>Prob(H) (two-sided):</th>    <td>0.76</td>  <th>  Kurtosis:          </th> <td>2.31</td>\n",
              "</tr>\n",
              "</table><br/><br/>Warnings:<br/>[1] Covariance matrix calculated using the outer product of gradients (complex-step)."
            ],
            "text/plain": [
              "<class 'statsmodels.iolib.summary.Summary'>\n",
              "\"\"\"\n",
              "                                 Statespace Model Results                                 \n",
              "==========================================================================================\n",
              "Dep. Variable:                StainlessSteelPrice   No. Observations:                   72\n",
              "Model:             SARIMAX(1, 1, 1)x(1, 1, 1, 12)   Log Likelihood                  84.893\n",
              "Date:                            Wed, 17 Feb 2021   AIC                           -159.785\n",
              "Time:                                    08:36:30   BIC                           -149.398\n",
              "Sample:                                07-01-2013   HQIC                          -155.730\n",
              "                                     - 06-01-2019                                         \n",
              "Covariance Type:                              opg                                         \n",
              "==============================================================================\n",
              "                 coef    std err          z      P>|z|      [0.025      0.975]\n",
              "------------------------------------------------------------------------------\n",
              "ar.L1          0.5370      0.399      1.347      0.178      -0.244       1.318\n",
              "ma.L1         -0.2599      0.444     -0.585      0.558      -1.131       0.611\n",
              "ar.S.L12      -0.1322      0.237     -0.558      0.577      -0.597       0.332\n",
              "ma.S.L12      -0.7089      0.366     -1.935      0.053      -1.427       0.009\n",
              "sigma2         0.0028      0.001      3.679      0.000       0.001       0.004\n",
              "===================================================================================\n",
              "Ljung-Box (Q):                       48.41   Jarque-Bera (JB):                 1.76\n",
              "Prob(Q):                              0.17   Prob(JB):                         0.42\n",
              "Heteroskedasticity (H):               0.87   Skew:                             0.24\n",
              "Prob(H) (two-sided):                  0.76   Kurtosis:                         2.31\n",
              "===================================================================================\n",
              "\n",
              "Warnings:\n",
              "[1] Covariance matrix calculated using the outer product of gradients (complex-step).\n",
              "\"\"\""
            ]
          },
          "metadata": {
            "tags": []
          },
          "execution_count": 22
        }
      ]
    },
    {
      "cell_type": "markdown",
      "metadata": {
        "id": "UfQi3AqEUuWg"
      },
      "source": [
        "Model is best if the AIC value is low. Grid search can be applied by varying the values of p,q and d for more accurate predictions or use autoarima"
      ]
    },
    {
      "cell_type": "code",
      "metadata": {
        "colab": {
          "base_uri": "https://localhost:8080/",
          "height": 513
        },
        "id": "O_ySNs-5_gl6",
        "outputId": "fafcc1c4-d8e4-4ca3-a277-267cbc3eed17"
      },
      "source": [
        "# Diagnostics to check if there is any unusual behaviour\n",
        "model_fit.plot_diagnostics(figsize = (16, 8));"
      ],
      "execution_count": null,
      "outputs": [
        {
          "output_type": "display_data",
          "data": {
            "image/png": "[encoded data removed]",
            "text/plain": [
              "<Figure size 1152x576 with 4 Axes>"
            ]
          },
          "metadata": {
            "tags": [],
            "needs_background": "light"
          }
        }
      ]
    },
    {
      "cell_type": "markdown",
      "metadata": {
        "id": "WCNUP05jAA4c"
      },
      "source": [
        "It is not exactly perfect, however our model residuals are normally distributed."
      ]
    },
    {
      "cell_type": "code",
      "metadata": {
        "colab": {
          "base_uri": "https://localhost:8080/",
          "height": 680
        },
        "id": "vLWGtmqc7wgX",
        "outputId": "eb1df044-ecfe-4e48-ddc8-5b6a5927adc1"
      },
      "source": [
        "# Plot Residuals\n",
        "residuals = pd.DataFrame(model_fit.resid)\n",
        "residuals.plot()\n",
        "plt.show()\n",
        "residuals.plot(kind='kde')\n",
        "plt.show()\n",
        "print(residuals.describe())"
      ],
      "execution_count": null,
      "outputs": [
        {
          "output_type": "display_data",
          "data": {
            "image/png": "[encoded data removed]",
            "text/plain": [
              "<Figure size 432x288 with 1 Axes>"
            ]
          },
          "metadata": {
            "tags": [],
            "needs_background": "light"
          }
        },
        {
          "output_type": "display_data",
          "data": {
            "image/png": "[encoded data removed]",
            "text/plain": [
              "<Figure size 432x288 with 1 Axes>"
            ]
          },
          "metadata": {
            "tags": [],
            "needs_background": "light"
          }
        },
        {
          "output_type": "stream",
          "text": [
            "               0\n",
            "count  72.000000\n",
            "mean    0.005905\n",
            "std     0.123444\n",
            "min    -0.402790\n",
            "25%    -0.046940\n",
            "50%     0.000340\n",
            "75%     0.038777\n",
            "max     0.827352\n"
          ],
          "name": "stdout"
        }
      ]
    },
    {
      "cell_type": "markdown",
      "metadata": {
        "id": "UP7o9zZt79VQ"
      },
      "source": [
        "If the residual’s mean is non-zero suggesting that there is bias with the model predictionbut here the residual error describes that there is no bias in the prediction because of the zero mean in the residuals."
      ]
    },
    {
      "cell_type": "code",
      "metadata": {
        "id": "JolTqMShZldd"
      },
      "source": [
        "# Predictions with SARIMAX model\n",
        "pred = model_fit.predict(start=71,end=83,dynamic=True)"
      ],
      "execution_count": null,
      "outputs": []
    },
    {
      "cell_type": "code",
      "metadata": {
        "colab": {
          "base_uri": "https://localhost:8080/",
          "height": 312
        },
        "id": "MkXIunCVZlgo",
        "outputId": "5f71bb44-72c0-4bd3-8392-8bd3bfe6903f"
      },
      "source": [
        "# Visualizing the results of SARIMAX model\n",
        "plt.plot(test,label='Expected Values')\n",
        "plt.plot(pred,color='red',label='Forecast Predictions')\n",
        "plt.xlabel('Date')\n",
        "plt.ylabel('steel prices')\n",
        "plt.legend(loc='best')\n",
        "plt.title('Prediction of test data using SARIMAX model')"
      ],
      "execution_count": null,
      "outputs": [
        {
          "output_type": "execute_result",
          "data": {
            "text/plain": [
              "Text(0.5, 1.0, 'Prediction of test data using SARIMAX model')"
            ]
          },
          "metadata": {
            "tags": []
          },
          "execution_count": 26
        },
        {
          "output_type": "display_data",
          "data": {
            "image/png": "[encoded data removed]",
            "text/plain": [
              "<Figure size 432x288 with 1 Axes>"
            ]
          },
          "metadata": {
            "tags": [],
            "needs_background": "light"
          }
        }
      ]
    },
    {
      "cell_type": "markdown",
      "metadata": {
        "id": "gon1Vpzp-__c"
      },
      "source": [
        "**Observation**\n",
        "\n",
        "Not so bad! \n",
        "\n",
        "SARIMAx model predictions are better when compared with ARIMA model. This model is pretty fast interms of training/fitting time and complexity. "
      ]
    },
    {
      "cell_type": "code",
      "metadata": {
        "colab": {
          "base_uri": "https://localhost:8080/"
        },
        "id": "ALZ5cSocZlj0",
        "outputId": "74773a02-c9da-4eba-8a61-7cc2e3ec75d7"
      },
      "source": [
        "# MAPE\n",
        "print(\"MAPE using SARIMAX: \",mean_absolute_percentage_error(test,pred))"
      ],
      "execution_count": null,
      "outputs": [
        {
          "output_type": "stream",
          "text": [
            "MAPE using SARIMAX:  11.254014402618171\n"
          ],
          "name": "stdout"
        }
      ]
    },
    {
      "cell_type": "code",
      "metadata": {
        "id": "3vPHzmC9qXQe"
      },
      "source": [
        "final['Statistical_model_predict'] = pd.DataFrame(model_fit.predict(start=1,end=84), index=df.index)\n",
        "output['Statistical_model_prdiction'] = pd.DataFrame(model_fit.predict(start=72,end=83), index=output.index)"
      ],
      "execution_count": null,
      "outputs": []
    },
    {
      "cell_type": "code",
      "metadata": {
        "colab": {
          "base_uri": "https://localhost:8080/",
          "height": 312
        },
        "id": "z19Nmny_1Nh0",
        "outputId": "e596ed48-a9dd-4bb5-b493-aca6ec6d28a4"
      },
      "source": [
        "#Forecast for the next 1 year\n",
        "forecast = pd.DataFrame(model_fit.predict(start=83,end=95,dynamic=True))\n",
        "plt.plot(forecast)\n",
        "plt.xlabel('Date')\n",
        "plt.ylabel('steel prices')\n",
        "plt.title('Forcasting steel prices for the next 1 year')"
      ],
      "execution_count": null,
      "outputs": [
        {
          "output_type": "execute_result",
          "data": {
            "text/plain": [
              "Text(0.5, 1.0, 'Forcasting steel prices for the next 1 year')"
            ]
          },
          "metadata": {
            "tags": []
          },
          "execution_count": 29
        },
        {
          "output_type": "display_data",
          "data": {
            "image/png": "[encoded data removed]",
            "text/plain": [
              "<Figure size 432x288 with 1 Axes>"
            ]
          },
          "metadata": {
            "tags": [],
            "needs_background": "light"
          }
        }
      ]
    },
    {
      "cell_type": "markdown",
      "metadata": {
        "id": "HWhdn0PNAy1Y"
      },
      "source": [
        "For the following next one year we can see that there is seasonality observed by first decreasing and then increasing in the steel prices."
      ]
    },
    {
      "cell_type": "markdown",
      "metadata": {
        "id": "XUGNStfunWG0"
      },
      "source": [
        "# Machine Learning Model"
      ]
    },
    {
      "cell_type": "code",
      "metadata": {
        "id": "QL0_dxSetFSp"
      },
      "source": [
        "# Train Test Split\n",
        "x_train, x_test, y_train, y_test = timeseries_train_test_split(x, y, 0.25)"
      ],
      "execution_count": null,
      "outputs": []
    },
    {
      "cell_type": "markdown",
      "metadata": {
        "id": "_Hm9lNaQqN0u"
      },
      "source": [
        "Time series regression problems can be solved using various machine learning regression algorithms. \n",
        "\n",
        "In this notebook i will be using Randomforest, XGBoost and Gaussian Process to find better predictions.\n"
      ]
    },
    {
      "cell_type": "code",
      "metadata": {
        "colab": {
          "base_uri": "https://localhost:8080/"
        },
        "id": "7dGvxe0izRWn",
        "outputId": "cd437a8d-ddee-4302-be1f-433fd61077f1"
      },
      "source": [
        "# Check Varience Thresholding\n",
        "varience_threshold = VarianceThreshold()\n",
        "varience_threshold.fit(x_train)"
      ],
      "execution_count": null,
      "outputs": [
        {
          "output_type": "execute_result",
          "data": {
            "text/plain": [
              "VarianceThreshold(threshold=0.0)"
            ]
          },
          "metadata": {
            "tags": []
          },
          "execution_count": 31
        }
      ]
    },
    {
      "cell_type": "code",
      "metadata": {
        "colab": {
          "base_uri": "https://localhost:8080/"
        },
        "id": "NXphT2Buzdud",
        "outputId": "ab850cc0-8ee6-497d-bb7f-e3d065e0a6d8"
      },
      "source": [
        "varience_threshold.get_support()"
      ],
      "execution_count": null,
      "outputs": [
        {
          "output_type": "execute_result",
          "data": {
            "text/plain": [
              "array([ True,  True,  True,  True,  True,  True,  True,  True,  True,\n",
              "        True,  True,  True,  True,  True,  True,  True,  True,  True])"
            ]
          },
          "metadata": {
            "tags": []
          },
          "execution_count": 32
        }
      ]
    },
    {
      "cell_type": "markdown",
      "metadata": {
        "id": "FHGLpmxgzqfs"
      },
      "source": [
        "Varience thresholding is applied and found no colmun having varience as 0"
      ]
    },
    {
      "cell_type": "code",
      "metadata": {
        "id": "65yH1aP3tcnh",
        "colab": {
          "base_uri": "https://localhost:8080/"
        },
        "outputId": "fad531c2-6af4-4937-f4ee-4226bb9918c3"
      },
      "source": [
        "# Random Forest Regressor\n",
        "rf = RandomForestRegressor()\n",
        "rf.fit(x_train,y_train)"
      ],
      "execution_count": null,
      "outputs": [
        {
          "output_type": "execute_result",
          "data": {
            "text/plain": [
              "RandomForestRegressor(bootstrap=True, ccp_alpha=0.0, criterion='mse',\n",
              "                      max_depth=None, max_features='auto', max_leaf_nodes=None,\n",
              "                      max_samples=None, min_impurity_decrease=0.0,\n",
              "                      min_impurity_split=None, min_samples_leaf=1,\n",
              "                      min_samples_split=2, min_weight_fraction_leaf=0.0,\n",
              "                      n_estimators=100, n_jobs=None, oob_score=False,\n",
              "                      random_state=None, verbose=0, warm_start=False)"
            ]
          },
          "metadata": {
            "tags": []
          },
          "execution_count": 33
        }
      ]
    },
    {
      "cell_type": "code",
      "metadata": {
        "id": "iZBtZqJ7tcqg",
        "colab": {
          "base_uri": "https://localhost:8080/"
        },
        "outputId": "c59f5aa5-8dba-481f-c85b-b64dad8b24a0"
      },
      "source": [
        "train_score = rf.score(x_train,y_train)\n",
        "print (\"Training score using Random Forest: \", train_score)"
      ],
      "execution_count": null,
      "outputs": [
        {
          "output_type": "stream",
          "text": [
            "Training score using Random Forest:  0.9777379467176355\n"
          ],
          "name": "stdout"
        }
      ]
    },
    {
      "cell_type": "code",
      "metadata": {
        "id": "jjXcD4Zctcti",
        "colab": {
          "base_uri": "https://localhost:8080/"
        },
        "outputId": "a9fac92c-6682-483d-c843-a0fe259e203d"
      },
      "source": [
        "# XGBoost Regressor\n",
        "xb = XGBRegressor()\n",
        "xb.fit(x_train,y_train)"
      ],
      "execution_count": null,
      "outputs": [
        {
          "output_type": "stream",
          "text": [
            "[08:36:32] WARNING: /workspace/src/objective/regression_obj.cu:152: reg:linear is now deprecated in favor of reg:squarederror.\n"
          ],
          "name": "stdout"
        },
        {
          "output_type": "execute_result",
          "data": {
            "text/plain": [
              "XGBRegressor(base_score=0.5, booster='gbtree', colsample_bylevel=1,\n",
              "             colsample_bynode=1, colsample_bytree=1, gamma=0,\n",
              "             importance_type='gain', learning_rate=0.1, max_delta_step=0,\n",
              "             max_depth=3, min_child_weight=1, missing=None, n_estimators=100,\n",
              "             n_jobs=1, nthread=None, objective='reg:linear', random_state=0,\n",
              "             reg_alpha=0, reg_lambda=1, scale_pos_weight=1, seed=None,\n",
              "             silent=None, subsample=1, verbosity=1)"
            ]
          },
          "metadata": {
            "tags": []
          },
          "execution_count": 35
        }
      ]
    },
    {
      "cell_type": "code",
      "metadata": {
        "id": "JWIaQCRgtcwL",
        "colab": {
          "base_uri": "https://localhost:8080/"
        },
        "outputId": "211b0b26-b193-4507-d61b-f852e9454af9"
      },
      "source": [
        "train_score = xb.score(x_train,y_train)\n",
        "print (\"Training score using XGBoost: \", train_score)"
      ],
      "execution_count": null,
      "outputs": [
        {
          "output_type": "stream",
          "text": [
            "Training score using XGBoost:  0.9994322133513477\n"
          ],
          "name": "stdout"
        }
      ]
    },
    {
      "cell_type": "code",
      "metadata": {
        "id": "nhEijCKAt3Ox",
        "colab": {
          "base_uri": "https://localhost:8080/"
        },
        "outputId": "a35e5d78-14b9-409d-9bfb-859dff01f39c"
      },
      "source": [
        "#Gaussian Process Regressor\n",
        "kernel = gp.kernels.ConstantKernel(1.0, (1e-1, 1e3)) * gp.kernels.RBF(10.0, (1e-3, 1e3))\n",
        "gpr = gp.GaussianProcessRegressor(kernel=kernel, n_restarts_optimizer=10, alpha=0.1, normalize_y=True)\n",
        "gpr.fit(x_train,y_train)"
      ],
      "execution_count": null,
      "outputs": [
        {
          "output_type": "execute_result",
          "data": {
            "text/plain": [
              "GaussianProcessRegressor(alpha=0.1, copy_X_train=True,\n",
              "                         kernel=1**2 * RBF(length_scale=10),\n",
              "                         n_restarts_optimizer=10, normalize_y=True,\n",
              "                         optimizer='fmin_l_bfgs_b', random_state=None)"
            ]
          },
          "metadata": {
            "tags": []
          },
          "execution_count": 37
        }
      ]
    },
    {
      "cell_type": "code",
      "metadata": {
        "id": "_7SKaFlYuSgX",
        "colab": {
          "base_uri": "https://localhost:8080/"
        },
        "outputId": "59975fce-ef82-4ba7-c8af-5268fd5942aa"
      },
      "source": [
        "train_score = gpr.score(x_train,y_train)\n",
        "print (\"Training score using Gaussiona Process:\", train_score)"
      ],
      "execution_count": null,
      "outputs": [
        {
          "output_type": "stream",
          "text": [
            "Training score using Gaussiona Process: 0.9078403036492237\n"
          ],
          "name": "stdout"
        }
      ]
    },
    {
      "cell_type": "code",
      "metadata": {
        "id": "YduUXphzz4q3"
      },
      "source": [
        "final['Randomforest_predict'] = pd.DataFrame(rf.predict(x), index=df.index)\n",
        "final['XGboost_predict'] = pd.DataFrame(xb.predict(x), index=df.index)\n",
        "final['GPR_predict'] = pd.DataFrame(gpr.predict(x), index=df.index)"
      ],
      "execution_count": null,
      "outputs": []
    },
    {
      "cell_type": "code",
      "metadata": {
        "id": "1LtZkJcE45xa",
        "colab": {
          "base_uri": "https://localhost:8080/",
          "height": 312
        },
        "outputId": "657b27b5-9bbd-492a-d12b-cc1d5f1f093a"
      },
      "source": [
        "plt.plot(final.StainlessSteelPrice, color='blue',label='Actual Values')\n",
        "plt.plot(final.Randomforest_predict, color='red', label='Predictions')\n",
        "plt.xlabel('Date')\n",
        "plt.ylabel('Steel Prices')\n",
        "plt.legend(loc='best')\n",
        "plt.title('Randomforest Regressor Predictions')\n",
        "plt.show"
      ],
      "execution_count": null,
      "outputs": [
        {
          "output_type": "execute_result",
          "data": {
            "text/plain": [
              "<function matplotlib.pyplot.show>"
            ]
          },
          "metadata": {
            "tags": []
          },
          "execution_count": 40
        },
        {
          "output_type": "display_data",
          "data": {
            "image/png": "[encoded data removed]",
            "text/plain": [
              "<Figure size 432x288 with 1 Axes>"
            ]
          },
          "metadata": {
            "tags": [],
            "needs_background": "light"
          }
        }
      ]
    },
    {
      "cell_type": "code",
      "metadata": {
        "id": "qsiUC--n450m",
        "colab": {
          "base_uri": "https://localhost:8080/",
          "height": 312
        },
        "outputId": "f7d194ab-1969-4162-e7b8-5befe75da02e"
      },
      "source": [
        "plt.plot(final.StainlessSteelPrice, color='blue',label='Actual Values')\n",
        "plt.plot(final.XGboost_predict, color='red', label='Predictions')\n",
        "plt.xlabel('Date')\n",
        "plt.ylabel('Steel Prices')\n",
        "plt.title('XGboost Regressor Predictions')\n",
        "plt.legend(loc='best')\n",
        "plt.show"
      ],
      "execution_count": null,
      "outputs": [
        {
          "output_type": "execute_result",
          "data": {
            "text/plain": [
              "<function matplotlib.pyplot.show>"
            ]
          },
          "metadata": {
            "tags": []
          },
          "execution_count": 41
        },
        {
          "output_type": "display_data",
          "data": {
            "image/png": "[encoded data removed]",
            "text/plain": [
              "<Figure size 432x288 with 1 Axes>"
            ]
          },
          "metadata": {
            "tags": [],
            "needs_background": "light"
          }
        }
      ]
    },
    {
      "cell_type": "markdown",
      "metadata": {
        "id": "5fzLLUF1sRUZ"
      },
      "source": [
        "XGBoost is perfectly fitting the training data, whereas with the test data it performed significantly simialr following the trend."
      ]
    },
    {
      "cell_type": "code",
      "metadata": {
        "id": "VDvF5aXH453n",
        "colab": {
          "base_uri": "https://localhost:8080/",
          "height": 312
        },
        "outputId": "bf7dc0f1-316a-4358-85ea-6107c76e2187"
      },
      "source": [
        "plt.plot(final.StainlessSteelPrice, color='blue',label='Actual Values')\n",
        "plt.plot(final.GPR_predict, color='red',label='Predictions')\n",
        "plt.xlabel('Date')\n",
        "plt.ylabel('Steel Prices')\n",
        "plt.title('Gaussian Process Regressor Predictions')\n",
        "plt.legend(loc='best')\n",
        "plt.show"
      ],
      "execution_count": null,
      "outputs": [
        {
          "output_type": "execute_result",
          "data": {
            "text/plain": [
              "<function matplotlib.pyplot.show>"
            ]
          },
          "metadata": {
            "tags": []
          },
          "execution_count": 42
        },
        {
          "output_type": "display_data",
          "data": {
            "image/png": "[encoded data removed]",
            "text/plain": [
              "<Figure size 432x288 with 1 Axes>"
            ]
          },
          "metadata": {
            "tags": [],
            "needs_background": "light"
          }
        }
      ]
    },
    {
      "cell_type": "markdown",
      "metadata": {
        "id": "6Om0PAhzJnH1"
      },
      "source": [
        "**Observation**\n",
        "\n",
        "Gaussian Processes is the wonderfull technique with a high predicting power. From the plot of Gaussian process, it is follwing the trend of the test data even if it doesnot fit exactly with the train data. The Mean Absolute Percentage Error for the Gaussian process is less when compared with the other machine learning models like Randomforest and XGBoost. "
      ]
    },
    {
      "cell_type": "code",
      "metadata": {
        "id": "XJjcuM9p4ADg",
        "colab": {
          "base_uri": "https://localhost:8080/"
        },
        "outputId": "ac912917-5827-4a31-ed2a-4657971d5989"
      },
      "source": [
        "print(\"MAPE using Random Forest: \",mean_absolute_percentage_error(y_test,rf.predict(x_test)))\n",
        "print(\"MAPE using XGBoost: \",mean_absolute_percentage_error(y_test,xb.predict(x_test)))\n",
        "print(\"MAPE using Gaussian Process: \",mean_absolute_percentage_error(y_test,gpr.predict(x_test)))"
      ],
      "execution_count": null,
      "outputs": [
        {
          "output_type": "stream",
          "text": [
            "MAPE using Random Forest:  13.312375589508907\n",
            "MAPE using XGBoost:  12.558333959258446\n",
            "MAPE using Gaussian Process:  8.249845443827628\n"
          ],
          "name": "stdout"
        }
      ]
    },
    {
      "cell_type": "code",
      "metadata": {
        "id": "7Y7HE0kl0qk_"
      },
      "source": [
        "output['Machine_Learning_predict'] = pd.DataFrame(gpr.predict(x[-12:]), index=output.index)"
      ],
      "execution_count": null,
      "outputs": []
    },
    {
      "cell_type": "markdown",
      "metadata": {
        "id": "HvZdcNIgnyFp"
      },
      "source": [
        "# Deep Learning Model"
      ]
    },
    {
      "cell_type": "markdown",
      "metadata": {
        "id": "wcdtF0f1cvli"
      },
      "source": [
        "LSTM is used to predict the stainless steel prices, since it performs good if the data is in sequence.\n",
        "\n",
        "LSTM is sensitive to scaling so scaling of the data is necessary"
      ]
    },
    {
      "cell_type": "markdown",
      "metadata": {
        "id": "gz_4Kbcr3Wx1"
      },
      "source": [
        "### Univariate Analysis"
      ]
    },
    {
      "cell_type": "code",
      "metadata": {
        "id": "SqbisjmB2Da0"
      },
      "source": [
        "# Data loading and splitting into train and test\n",
        "train = y.iloc[0:72]\n",
        "test = y.iloc[72:]"
      ],
      "execution_count": null,
      "outputs": []
    },
    {
      "cell_type": "code",
      "metadata": {
        "id": "6ZlJD4AP2DiZ"
      },
      "source": [
        "# Scaling the data \n",
        "scaler = MinMaxScaler()\n",
        "scaler.fit(train)\n",
        "scaled_train = scaler.transform(train)\n",
        "scaled_test = scaler.transform(test)"
      ],
      "execution_count": null,
      "outputs": []
    },
    {
      "cell_type": "code",
      "metadata": {
        "colab": {
          "base_uri": "https://localhost:8080/"
        },
        "id": "IXZpCfpOLDrW",
        "outputId": "c3fe97f5-2d1d-4ab2-9018-e348778a0bbc"
      },
      "source": [
        "scaled_train[0]"
      ],
      "execution_count": null,
      "outputs": [
        {
          "output_type": "execute_result",
          "data": {
            "text/plain": [
              "array([0.57301587])"
            ]
          },
          "metadata": {
            "tags": []
          },
          "execution_count": 106
        }
      ]
    },
    {
      "cell_type": "code",
      "metadata": {
        "id": "g841DMH-2DmC"
      },
      "source": [
        "# Train generator\n",
        "n_input = 12\n",
        "n_feature = 1\n",
        "\n",
        "train_generator = TimeseriesGenerator(scaled_train,scaled_train,length=n_input, batch_size=1)\n"
      ],
      "execution_count": null,
      "outputs": []
    },
    {
      "cell_type": "code",
      "metadata": {
        "id": "ejAIey902Dpb"
      },
      "source": [
        "# Model\n",
        "model = Sequential()\n",
        "model.add(LSTM(50, activation='relu', return_sequences=True, input_shape=(n_input, n_feature)))\n",
        "model.add(Dropout(0.2))\n",
        "model.add(LSTM(50, activation='relu',return_sequences=True))\n",
        "model.add(Dropout(0.2))\n",
        "model.add(LSTM(50, activation='relu'))\n",
        "model.add(Dense(1))\n",
        "model.compile(optimizer='adam', loss='mse')"
      ],
      "execution_count": null,
      "outputs": []
    },
    {
      "cell_type": "code",
      "metadata": {
        "colab": {
          "base_uri": "https://localhost:8080/"
        },
        "id": "NnPCDzf62K5H",
        "outputId": "43a82e54-4386-47ac-a890-7b01cfe83565"
      },
      "source": [
        "# Summary of the model\n",
        "model.summary()"
      ],
      "execution_count": null,
      "outputs": [
        {
          "output_type": "stream",
          "text": [
            "Model: \"sequential_3\"\n",
            "_________________________________________________________________\n",
            "Layer (type)                 Output Shape              Param #   \n",
            "=================================================================\n",
            "lstm_9 (LSTM)                (None, 12, 50)            10400     \n",
            "_________________________________________________________________\n",
            "dropout_6 (Dropout)          (None, 12, 50)            0         \n",
            "_________________________________________________________________\n",
            "lstm_10 (LSTM)               (None, 12, 50)            20200     \n",
            "_________________________________________________________________\n",
            "dropout_7 (Dropout)          (None, 12, 50)            0         \n",
            "_________________________________________________________________\n",
            "lstm_11 (LSTM)               (None, 50)                20200     \n",
            "_________________________________________________________________\n",
            "dense_3 (Dense)              (None, 1)                 51        \n",
            "=================================================================\n",
            "Total params: 50,851\n",
            "Trainable params: 50,851\n",
            "Non-trainable params: 0\n",
            "_________________________________________________________________\n"
          ],
          "name": "stdout"
        }
      ]
    },
    {
      "cell_type": "code",
      "metadata": {
        "colab": {
          "base_uri": "https://localhost:8080/"
        },
        "id": "5L1axUWO2K8E",
        "outputId": "3ef543d4-164f-4cf4-aca9-9f5a31a8f69a"
      },
      "source": [
        "# Fit the model\n",
        "model.fit_generator(train_generator,epochs= 50)"
      ],
      "execution_count": null,
      "outputs": [
        {
          "output_type": "stream",
          "text": [
            "Epoch 1/50\n",
            "60/60 [==============================] - 4s 12ms/step - loss: 0.2702\n",
            "Epoch 2/50\n",
            "60/60 [==============================] - 1s 13ms/step - loss: 0.0710\n",
            "Epoch 3/50\n",
            "60/60 [==============================] - 1s 13ms/step - loss: 0.0575\n",
            "Epoch 4/50\n",
            "60/60 [==============================] - 1s 12ms/step - loss: 0.0732\n",
            "Epoch 5/50\n",
            "60/60 [==============================] - 1s 13ms/step - loss: 0.0608\n",
            "Epoch 6/50\n",
            "60/60 [==============================] - 1s 13ms/step - loss: 0.0530\n",
            "Epoch 7/50\n",
            "60/60 [==============================] - 1s 13ms/step - loss: 0.0506\n",
            "Epoch 8/50\n",
            "60/60 [==============================] - 1s 13ms/step - loss: 0.0494\n",
            "Epoch 9/50\n",
            "60/60 [==============================] - 1s 13ms/step - loss: 0.0458\n",
            "Epoch 10/50\n",
            "60/60 [==============================] - 1s 13ms/step - loss: 0.0396\n",
            "Epoch 11/50\n",
            "60/60 [==============================] - 1s 13ms/step - loss: 0.0406\n",
            "Epoch 12/50\n",
            "60/60 [==============================] - 1s 13ms/step - loss: 0.0378\n",
            "Epoch 13/50\n",
            "60/60 [==============================] - 1s 12ms/step - loss: 0.0424\n",
            "Epoch 14/50\n",
            "60/60 [==============================] - 1s 12ms/step - loss: 0.0333\n",
            "Epoch 15/50\n",
            "60/60 [==============================] - 1s 13ms/step - loss: 0.0375\n",
            "Epoch 16/50\n",
            "60/60 [==============================] - 1s 12ms/step - loss: 0.0289\n",
            "Epoch 17/50\n",
            "60/60 [==============================] - 1s 12ms/step - loss: 0.0376\n",
            "Epoch 18/50\n",
            "60/60 [==============================] - 1s 12ms/step - loss: 0.0242\n",
            "Epoch 19/50\n",
            "60/60 [==============================] - 1s 13ms/step - loss: 0.0305\n",
            "Epoch 20/50\n",
            "60/60 [==============================] - 1s 12ms/step - loss: 0.0288\n",
            "Epoch 21/50\n",
            "60/60 [==============================] - 1s 12ms/step - loss: 0.0327\n",
            "Epoch 22/50\n",
            "60/60 [==============================] - 1s 12ms/step - loss: 0.0328\n",
            "Epoch 23/50\n",
            "60/60 [==============================] - 1s 12ms/step - loss: 0.0289\n",
            "Epoch 24/50\n",
            "60/60 [==============================] - 1s 12ms/step - loss: 0.0278\n",
            "Epoch 25/50\n",
            "60/60 [==============================] - 1s 13ms/step - loss: 0.0214\n",
            "Epoch 26/50\n",
            "60/60 [==============================] - 1s 12ms/step - loss: 0.0288\n",
            "Epoch 27/50\n",
            "60/60 [==============================] - 1s 13ms/step - loss: 0.0271\n",
            "Epoch 28/50\n",
            "60/60 [==============================] - 1s 13ms/step - loss: 0.0217\n",
            "Epoch 29/50\n",
            "60/60 [==============================] - 1s 12ms/step - loss: 0.0219\n",
            "Epoch 30/50\n",
            "60/60 [==============================] - 1s 12ms/step - loss: 0.0204\n",
            "Epoch 31/50\n",
            "60/60 [==============================] - 1s 12ms/step - loss: 0.0248\n",
            "Epoch 32/50\n",
            "60/60 [==============================] - 1s 13ms/step - loss: 0.0158\n",
            "Epoch 33/50\n",
            "60/60 [==============================] - 1s 12ms/step - loss: 0.0162\n",
            "Epoch 34/50\n",
            "60/60 [==============================] - 1s 12ms/step - loss: 0.0204\n",
            "Epoch 35/50\n",
            "60/60 [==============================] - 1s 12ms/step - loss: 0.0195\n",
            "Epoch 36/50\n",
            "60/60 [==============================] - 1s 12ms/step - loss: 0.0141\n",
            "Epoch 37/50\n",
            "60/60 [==============================] - 1s 12ms/step - loss: 0.0302\n",
            "Epoch 38/50\n",
            "60/60 [==============================] - 1s 13ms/step - loss: 0.0212\n",
            "Epoch 39/50\n",
            "60/60 [==============================] - 1s 12ms/step - loss: 0.0151\n",
            "Epoch 40/50\n",
            "60/60 [==============================] - 1s 12ms/step - loss: 0.0235\n",
            "Epoch 41/50\n",
            "60/60 [==============================] - 1s 13ms/step - loss: 0.0189\n",
            "Epoch 42/50\n",
            "60/60 [==============================] - 1s 12ms/step - loss: 0.0180\n",
            "Epoch 43/50\n",
            "60/60 [==============================] - 1s 12ms/step - loss: 0.0186\n",
            "Epoch 44/50\n",
            "60/60 [==============================] - 1s 12ms/step - loss: 0.0162\n",
            "Epoch 45/50\n",
            "60/60 [==============================] - 1s 13ms/step - loss: 0.0162\n",
            "Epoch 46/50\n",
            "60/60 [==============================] - 1s 13ms/step - loss: 0.0196\n",
            "Epoch 47/50\n",
            "60/60 [==============================] - 1s 12ms/step - loss: 0.0165\n",
            "Epoch 48/50\n",
            "60/60 [==============================] - 1s 12ms/step - loss: 0.0173\n",
            "Epoch 49/50\n",
            "60/60 [==============================] - 1s 12ms/step - loss: 0.0188\n",
            "Epoch 50/50\n",
            "60/60 [==============================] - 1s 12ms/step - loss: 0.0161\n"
          ],
          "name": "stdout"
        },
        {
          "output_type": "execute_result",
          "data": {
            "text/plain": [
              "<tensorflow.python.keras.callbacks.History at 0x7fdea3070d30>"
            ]
          },
          "metadata": {
            "tags": []
          },
          "execution_count": 94
        }
      ]
    },
    {
      "cell_type": "code",
      "metadata": {
        "colab": {
          "base_uri": "https://localhost:8080/",
          "height": 282
        },
        "id": "8rMzHLKj2LB8",
        "outputId": "3dbc9dbd-048f-4564-8cb4-1e8f766a4a78"
      },
      "source": [
        "# Model loss\n",
        "loss= model.history.history['loss']\n",
        "plt.plot(loss)"
      ],
      "execution_count": null,
      "outputs": [
        {
          "output_type": "execute_result",
          "data": {
            "text/plain": [
              "[<matplotlib.lines.Line2D at 0x7fdea29a8400>]"
            ]
          },
          "metadata": {
            "tags": []
          },
          "execution_count": 95
        },
        {
          "output_type": "display_data",
          "data": {
            "image/png": "[encoded data removed]",
            "text/plain": [
              "<Figure size 432x288 with 1 Axes>"
            ]
          },
          "metadata": {
            "tags": [],
            "needs_background": "light"
          }
        }
      ]
    },
    {
      "cell_type": "code",
      "metadata": {
        "id": "iR6lDlEu2LF-"
      },
      "source": [
        "# Block of code for test predictions\n",
        "test_predictions = []\n",
        "\n",
        "# last n_input points from the training set\n",
        "first_eval_batch = scaled_train[-n_input:]\n",
        "# reshape this to the format of RNN (same format as TimeseriesGeneration)\n",
        "current_batch = first_eval_batch.reshape((1,n_input,n_feature))\n",
        "\n",
        "for i in range(len(test)):\n",
        "    \n",
        "    # One timestep ahead \n",
        "    current_pred = model.predict(current_batch)[0]\n",
        "    \n",
        "    #store that prediction\n",
        "    test_predictions.append(current_pred)\n",
        "    \n",
        "    # update the current batch to include prediction\n",
        "    current_batch = np.append(current_batch[:,1:,:],[[current_pred]], axis= 1)"
      ],
      "execution_count": null,
      "outputs": []
    },
    {
      "cell_type": "code",
      "metadata": {
        "id": "yPW-cC_-A41n"
      },
      "source": [
        "pred = scaler.inverse_transform(test_predictions)"
      ],
      "execution_count": null,
      "outputs": []
    },
    {
      "cell_type": "code",
      "metadata": {
        "colab": {
          "base_uri": "https://localhost:8080/",
          "height": 285
        },
        "id": "Es_gbTyt_FbM",
        "outputId": "f0094e61-a006-4163-f048-04b54278c600"
      },
      "source": [
        "# Visualization of the results using LSTM\n",
        "plt.plot(test.values, label='Actual Values')\n",
        "plt.plot(pred,color='red',label = 'Forecasting Prediction')\n",
        "plt.legend(loc='best')"
      ],
      "execution_count": null,
      "outputs": [
        {
          "output_type": "execute_result",
          "data": {
            "text/plain": [
              "<matplotlib.legend.Legend at 0x7fdea176df98>"
            ]
          },
          "metadata": {
            "tags": []
          },
          "execution_count": 98
        },
        {
          "output_type": "display_data",
          "data": {
            "image/png": "[encoded data removed]",
            "text/plain": [
              "<Figure size 432x288 with 1 Axes>"
            ]
          },
          "metadata": {
            "tags": [],
            "needs_background": "light"
          }
        }
      ]
    },
    {
      "cell_type": "code",
      "metadata": {
        "colab": {
          "base_uri": "https://localhost:8080/"
        },
        "id": "N4VSIrGd2VOu",
        "outputId": "0604b3e9-aade-486c-b507-f2c66d73ea32"
      },
      "source": [
        "print(\"MAPE using LSTM: \",mean_absolute_percentage_error(test,pred))"
      ],
      "execution_count": null,
      "outputs": [
        {
          "output_type": "stream",
          "text": [
            "MAPE using LSTM:  27.043711219255567\n"
          ],
          "name": "stdout"
        }
      ]
    },
    {
      "cell_type": "markdown",
      "metadata": {
        "id": "8klGTvFa3aTq"
      },
      "source": [
        "### Multivariate"
      ]
    },
    {
      "cell_type": "code",
      "metadata": {
        "id": "WEryxG7J94ms"
      },
      "source": [
        "#Train test split of multivariate model\n",
        "x_train, x_test, y_train, y_test = timeseries_train_test_split(x, y, 0.15)"
      ],
      "execution_count": null,
      "outputs": []
    },
    {
      "cell_type": "code",
      "metadata": {
        "id": "3ssaIJai36LB"
      },
      "source": [
        "# Scaling the train data\n",
        "scaler = MinMaxScaler()\n",
        "scaler.fit(x_train)\n",
        "scaled_train = scaler.transform(x_train)\n",
        "scaled_test = scaler.transform(x_test)"
      ],
      "execution_count": null,
      "outputs": []
    },
    {
      "cell_type": "code",
      "metadata": {
        "id": "B2k1cqfN37cC"
      },
      "source": [
        "# Train generator\n",
        "n_input = 12\n",
        "n_feature = 18\n",
        "\n",
        "train_generator = TimeseriesGenerator(scaled_train,y_train.values,length=n_input, batch_size=1)"
      ],
      "execution_count": null,
      "outputs": []
    },
    {
      "cell_type": "code",
      "metadata": {
        "id": "oh_YUTDi7QRk"
      },
      "source": [
        "# Model\n",
        "model = Sequential()\n",
        "model.add(LSTM(50, return_sequences=True, input_shape=(n_input, n_feature)))\n",
        "model.add(Dropout(0.2))\n",
        "model.add(LSTM(50, return_sequences=True))\n",
        "model.add(Dropout(0.2))\n",
        "model.add(LSTM(50))\n",
        "model.add(Dense(1))\n",
        "model.compile(optimizer='adam', loss='mae')"
      ],
      "execution_count": null,
      "outputs": []
    },
    {
      "cell_type": "code",
      "metadata": {
        "colab": {
          "base_uri": "https://localhost:8080/"
        },
        "id": "oexkoIto7qmL",
        "outputId": "49e314c2-f5e3-4534-f6b2-3c053c67e82d"
      },
      "source": [
        "# Summary of the model\n",
        "model.summary()"
      ],
      "execution_count": null,
      "outputs": [
        {
          "output_type": "stream",
          "text": [
            "Model: \"sequential_1\"\n",
            "_________________________________________________________________\n",
            "Layer (type)                 Output Shape              Param #   \n",
            "=================================================================\n",
            "lstm_3 (LSTM)                (None, 12, 50)            13800     \n",
            "_________________________________________________________________\n",
            "dropout_2 (Dropout)          (None, 12, 50)            0         \n",
            "_________________________________________________________________\n",
            "lstm_4 (LSTM)                (None, 12, 50)            20200     \n",
            "_________________________________________________________________\n",
            "dropout_3 (Dropout)          (None, 12, 50)            0         \n",
            "_________________________________________________________________\n",
            "lstm_5 (LSTM)                (None, 50)                20200     \n",
            "_________________________________________________________________\n",
            "dense_1 (Dense)              (None, 1)                 51        \n",
            "=================================================================\n",
            "Total params: 54,251\n",
            "Trainable params: 54,251\n",
            "Non-trainable params: 0\n",
            "_________________________________________________________________\n"
          ],
          "name": "stdout"
        }
      ]
    },
    {
      "cell_type": "code",
      "metadata": {
        "colab": {
          "base_uri": "https://localhost:8080/"
        },
        "id": "tawzH1K-7wlr",
        "outputId": "4fed772a-d2db-4fe3-f92b-4528d242a529"
      },
      "source": [
        "# Fit the model\n",
        "model.fit_generator(train_generator,epochs= 50)"
      ],
      "execution_count": null,
      "outputs": [
        {
          "output_type": "stream",
          "text": [
            "Epoch 1/50\n",
            "60/60 [==============================] - 5s 14ms/step - loss: 0.2976\n",
            "Epoch 2/50\n",
            "60/60 [==============================] - 1s 14ms/step - loss: 0.1560\n",
            "Epoch 3/50\n",
            "60/60 [==============================] - 1s 14ms/step - loss: 0.0967\n",
            "Epoch 4/50\n",
            "60/60 [==============================] - 1s 15ms/step - loss: 0.0857\n",
            "Epoch 5/50\n",
            "60/60 [==============================] - 1s 15ms/step - loss: 0.0909\n",
            "Epoch 6/50\n",
            "60/60 [==============================] - 1s 15ms/step - loss: 0.0900\n",
            "Epoch 7/50\n",
            "60/60 [==============================] - 1s 15ms/step - loss: 0.0779\n",
            "Epoch 8/50\n",
            "60/60 [==============================] - 1s 14ms/step - loss: 0.0723\n",
            "Epoch 9/50\n",
            "60/60 [==============================] - 1s 14ms/step - loss: 0.0925\n",
            "Epoch 10/50\n",
            "60/60 [==============================] - 1s 15ms/step - loss: 0.0609\n",
            "Epoch 11/50\n",
            "60/60 [==============================] - 1s 14ms/step - loss: 0.0737\n",
            "Epoch 12/50\n",
            "60/60 [==============================] - 1s 14ms/step - loss: 0.0589\n",
            "Epoch 13/50\n",
            "60/60 [==============================] - 1s 15ms/step - loss: 0.0875\n",
            "Epoch 14/50\n",
            "60/60 [==============================] - 1s 14ms/step - loss: 0.0603\n",
            "Epoch 15/50\n",
            "60/60 [==============================] - 1s 14ms/step - loss: 0.0688\n",
            "Epoch 16/50\n",
            "60/60 [==============================] - 1s 14ms/step - loss: 0.0763\n",
            "Epoch 17/50\n",
            "60/60 [==============================] - 1s 15ms/step - loss: 0.0494\n",
            "Epoch 18/50\n",
            "60/60 [==============================] - 1s 14ms/step - loss: 0.0571\n",
            "Epoch 19/50\n",
            "60/60 [==============================] - 1s 14ms/step - loss: 0.0475\n",
            "Epoch 20/50\n",
            "60/60 [==============================] - 1s 14ms/step - loss: 0.0522\n",
            "Epoch 21/50\n",
            "60/60 [==============================] - 1s 14ms/step - loss: 0.0457\n",
            "Epoch 22/50\n",
            "60/60 [==============================] - 1s 14ms/step - loss: 0.0478\n",
            "Epoch 23/50\n",
            "60/60 [==============================] - 1s 14ms/step - loss: 0.0572\n",
            "Epoch 24/50\n",
            "60/60 [==============================] - 1s 14ms/step - loss: 0.0567\n",
            "Epoch 25/50\n",
            "60/60 [==============================] - 1s 15ms/step - loss: 0.0532\n",
            "Epoch 26/50\n",
            "60/60 [==============================] - 1s 14ms/step - loss: 0.0516\n",
            "Epoch 27/50\n",
            "60/60 [==============================] - 1s 14ms/step - loss: 0.0384\n",
            "Epoch 28/50\n",
            "60/60 [==============================] - 1s 14ms/step - loss: 0.0478\n",
            "Epoch 29/50\n",
            "60/60 [==============================] - 1s 15ms/step - loss: 0.0493\n",
            "Epoch 30/50\n",
            "60/60 [==============================] - 1s 14ms/step - loss: 0.0411\n",
            "Epoch 31/50\n",
            "60/60 [==============================] - 1s 14ms/step - loss: 0.0508\n",
            "Epoch 32/50\n",
            "60/60 [==============================] - 1s 14ms/step - loss: 0.0722\n",
            "Epoch 33/50\n",
            "60/60 [==============================] - 1s 14ms/step - loss: 0.0400\n",
            "Epoch 34/50\n",
            "60/60 [==============================] - 1s 14ms/step - loss: 0.0278\n",
            "Epoch 35/50\n",
            "60/60 [==============================] - 1s 14ms/step - loss: 0.0398\n",
            "Epoch 36/50\n",
            "60/60 [==============================] - 1s 14ms/step - loss: 0.0382\n",
            "Epoch 37/50\n",
            "60/60 [==============================] - 1s 14ms/step - loss: 0.0499\n",
            "Epoch 38/50\n",
            "60/60 [==============================] - 1s 14ms/step - loss: 0.0466\n",
            "Epoch 39/50\n",
            "60/60 [==============================] - 1s 14ms/step - loss: 0.0405\n",
            "Epoch 40/50\n",
            "60/60 [==============================] - 1s 14ms/step - loss: 0.0528\n",
            "Epoch 41/50\n",
            "60/60 [==============================] - 1s 15ms/step - loss: 0.0436\n",
            "Epoch 42/50\n",
            "60/60 [==============================] - 1s 14ms/step - loss: 0.0398\n",
            "Epoch 43/50\n",
            "60/60 [==============================] - 1s 14ms/step - loss: 0.0337\n",
            "Epoch 44/50\n",
            "60/60 [==============================] - 1s 14ms/step - loss: 0.0470\n",
            "Epoch 45/50\n",
            "60/60 [==============================] - 1s 15ms/step - loss: 0.0478\n",
            "Epoch 46/50\n",
            "60/60 [==============================] - 1s 14ms/step - loss: 0.0396\n",
            "Epoch 47/50\n",
            "60/60 [==============================] - 1s 14ms/step - loss: 0.0454\n",
            "Epoch 48/50\n",
            "60/60 [==============================] - 1s 14ms/step - loss: 0.0295\n",
            "Epoch 49/50\n",
            "60/60 [==============================] - 1s 14ms/step - loss: 0.0431\n",
            "Epoch 50/50\n",
            "60/60 [==============================] - 1s 15ms/step - loss: 0.0336\n"
          ],
          "name": "stdout"
        },
        {
          "output_type": "execute_result",
          "data": {
            "text/plain": [
              "<tensorflow.python.keras.callbacks.History at 0x7fdeb6b8c940>"
            ]
          },
          "metadata": {
            "tags": []
          },
          "execution_count": 61
        }
      ]
    },
    {
      "cell_type": "code",
      "metadata": {
        "colab": {
          "base_uri": "https://localhost:8080/",
          "height": 282
        },
        "id": "7HYajNi1_n1e",
        "outputId": "46a72a8e-51c9-45b8-db5b-579aea1b1ec5"
      },
      "source": [
        "# Model Loss\n",
        "loss= model.history.history['loss']\n",
        "plt.plot(loss)"
      ],
      "execution_count": null,
      "outputs": [
        {
          "output_type": "execute_result",
          "data": {
            "text/plain": [
              "[<matplotlib.lines.Line2D at 0x7fdead1e4438>]"
            ]
          },
          "metadata": {
            "tags": []
          },
          "execution_count": 62
        },
        {
          "output_type": "display_data",
          "data": {
            "image/png": "[encoded data removed]",
            "text/plain": [
              "<Figure size 432x288 with 1 Axes>"
            ]
          },
          "metadata": {
            "tags": [],
            "needs_background": "light"
          }
        }
      ]
    },
    {
      "cell_type": "code",
      "metadata": {
        "id": "dD3FrH3xAQ-1"
      },
      "source": [
        "# Test data predictions\n",
        "test_predictions = []\n",
        "\n",
        "# last n_input points from the training set\n",
        "first_eval_batch = scaled_train[-n_input:]\n",
        "# reshape this to the format of RNN (same format as TimeseriesGeneration)\n",
        "current_batch = first_eval_batch.reshape((1,n_input,n_feature))\n",
        "\n",
        "for i in range(len(test)):\n",
        "    \n",
        "    # One timestep ahead of historical 12 points\n",
        "    current_pred = model.predict(current_batch)[0]\n",
        "    #store that prediction\n",
        "    test_predictions.append(current_pred)\n",
        "    \n",
        "    # update the current batch to include prediction\n",
        "    current_batch = np.append(current_batch[:,1:,:],[[scaled_test[i]]], axis= 1)"
      ],
      "execution_count": null,
      "outputs": []
    },
    {
      "cell_type": "code",
      "metadata": {
        "id": "_Qbb5vAhAThh"
      },
      "source": [
        "pred = test_predictions"
      ],
      "execution_count": null,
      "outputs": []
    },
    {
      "cell_type": "code",
      "metadata": {
        "colab": {
          "base_uri": "https://localhost:8080/",
          "height": 282
        },
        "id": "Hk7iY19XItry",
        "outputId": "db76f966-68c7-47fa-8b02-dddc30ece9df"
      },
      "source": [
        "# Visualization of the results using LSTM\n",
        "plt.plot(y_test.values, label='Actual Values')\n",
        "plt.plot(pred,color='red',label = 'Forecasting Prediction')\n",
        "plt.legend(loc='best')"
      ],
      "execution_count": null,
      "outputs": [
        {
          "output_type": "execute_result",
          "data": {
            "text/plain": [
              "<matplotlib.legend.Legend at 0x7fdeabe29b00>"
            ]
          },
          "metadata": {
            "tags": []
          },
          "execution_count": 65
        },
        {
          "output_type": "display_data",
          "data": {
            "image/png": "[encoded data removed]",
            "text/plain": [
              "<Figure size 432x288 with 1 Axes>"
            ]
          },
          "metadata": {
            "tags": [],
            "needs_background": "light"
          }
        }
      ]
    },
    {
      "cell_type": "markdown",
      "metadata": {
        "id": "IVf_bzUAKlQ5"
      },
      "source": [
        "**Observation:**\n",
        "\n",
        "LSTM model performed very good it is clearly visible that it accurately follows some of the unexpected jumps/drops. Evaluating univariate mode and multivariate model i found the other features are helping much in finding the predicted value close to actual values.\n"
      ]
    },
    {
      "cell_type": "code",
      "metadata": {
        "colab": {
          "base_uri": "https://localhost:8080/"
        },
        "id": "m6NYnZKsKOzN",
        "outputId": "c2d06fe5-e992-4473-8f28-67da7b915378"
      },
      "source": [
        "# MAPE\n",
        "print(\"MAPE using LSTM: \",mean_absolute_percentage_error(pred,y_test))"
      ],
      "execution_count": null,
      "outputs": [
        {
          "output_type": "stream",
          "text": [
            "MAPE using LSTM:  11.052306262367674\n"
          ],
          "name": "stdout"
        }
      ]
    },
    {
      "cell_type": "code",
      "metadata": {
        "id": "vvVBRj6zzg7P"
      },
      "source": [
        "output['Deep_Learning_Prediction'] = pd.DataFrame(pred, index=output.index)"
      ],
      "execution_count": null,
      "outputs": []
    },
    {
      "cell_type": "code",
      "metadata": {
        "colab": {
          "base_uri": "https://localhost:8080/",
          "height": 452
        },
        "id": "ynGAW5PDz1uZ",
        "outputId": "29f7c299-9a67-43e7-9ec3-bb9dd25d645d"
      },
      "source": [
        "# comparision of all the predicted results\n",
        "output"
      ],
      "execution_count": null,
      "outputs": [
        {
          "output_type": "execute_result",
          "data": {
            "text/html": [
              "<div>\n",
              "<style scoped>\n",
              "    .dataframe tbody tr th:only-of-type {\n",
              "        vertical-align: middle;\n",
              "    }\n",
              "\n",
              "    .dataframe tbody tr th {\n",
              "        vertical-align: top;\n",
              "    }\n",
              "\n",
              "    .dataframe thead th {\n",
              "        text-align: right;\n",
              "    }\n",
              "</style>\n",
              "<table border=\"1\" class=\"dataframe\">\n",
              "  <thead>\n",
              "    <tr style=\"text-align: right;\">\n",
              "      <th></th>\n",
              "      <th>StainlessSteelPrice</th>\n",
              "      <th>Statistical_model_prdiction</th>\n",
              "      <th>Machine_Learning_predict</th>\n",
              "      <th>Deep_Learning_Prediction</th>\n",
              "    </tr>\n",
              "    <tr>\n",
              "      <th>Date</th>\n",
              "      <th></th>\n",
              "      <th></th>\n",
              "      <th></th>\n",
              "      <th></th>\n",
              "    </tr>\n",
              "  </thead>\n",
              "  <tbody>\n",
              "    <tr>\n",
              "      <th>2019-07-01</th>\n",
              "      <td>0.829620</td>\n",
              "      <td>0.819436</td>\n",
              "      <td>0.873864</td>\n",
              "      <td>0.863751</td>\n",
              "    </tr>\n",
              "    <tr>\n",
              "      <th>2019-08-01</th>\n",
              "      <td>0.852754</td>\n",
              "      <td>0.789195</td>\n",
              "      <td>0.797234</td>\n",
              "      <td>0.851824</td>\n",
              "    </tr>\n",
              "    <tr>\n",
              "      <th>2019-09-01</th>\n",
              "      <td>0.960255</td>\n",
              "      <td>0.786092</td>\n",
              "      <td>0.789004</td>\n",
              "      <td>0.834014</td>\n",
              "    </tr>\n",
              "    <tr>\n",
              "      <th>2019-10-01</th>\n",
              "      <td>1.075014</td>\n",
              "      <td>0.787161</td>\n",
              "      <td>0.789579</td>\n",
              "      <td>0.833168</td>\n",
              "    </tr>\n",
              "    <tr>\n",
              "      <th>2019-11-01</th>\n",
              "      <td>1.073200</td>\n",
              "      <td>0.771774</td>\n",
              "      <td>0.809174</td>\n",
              "      <td>0.840143</td>\n",
              "    </tr>\n",
              "    <tr>\n",
              "      <th>2019-12-01</th>\n",
              "      <td>1.000625</td>\n",
              "      <td>0.781318</td>\n",
              "      <td>0.821247</td>\n",
              "      <td>0.846343</td>\n",
              "    </tr>\n",
              "    <tr>\n",
              "      <th>2020-01-01</th>\n",
              "      <td>0.882237</td>\n",
              "      <td>0.764382</td>\n",
              "      <td>0.812855</td>\n",
              "      <td>0.848389</td>\n",
              "    </tr>\n",
              "    <tr>\n",
              "      <th>2020-02-01</th>\n",
              "      <td>0.893123</td>\n",
              "      <td>0.769394</td>\n",
              "      <td>0.797938</td>\n",
              "      <td>0.839980</td>\n",
              "    </tr>\n",
              "    <tr>\n",
              "      <th>2020-03-01</th>\n",
              "      <td>0.829167</td>\n",
              "      <td>0.789712</td>\n",
              "      <td>0.770916</td>\n",
              "      <td>0.819049</td>\n",
              "    </tr>\n",
              "    <tr>\n",
              "      <th>2020-04-01</th>\n",
              "      <td>0.789704</td>\n",
              "      <td>0.816457</td>\n",
              "      <td>0.766942</td>\n",
              "      <td>0.779534</td>\n",
              "    </tr>\n",
              "    <tr>\n",
              "      <th>2020-05-01</th>\n",
              "      <td>0.762035</td>\n",
              "      <td>0.813039</td>\n",
              "      <td>0.774688</td>\n",
              "      <td>0.719793</td>\n",
              "    </tr>\n",
              "    <tr>\n",
              "      <th>2020-06-01</th>\n",
              "      <td>0.811477</td>\n",
              "      <td>0.827068</td>\n",
              "      <td>0.783824</td>\n",
              "      <td>0.677876</td>\n",
              "    </tr>\n",
              "  </tbody>\n",
              "</table>\n",
              "</div>"
            ],
            "text/plain": [
              "            StainlessSteelPrice  ...  Deep_Learning_Prediction\n",
              "Date                             ...                          \n",
              "2019-07-01             0.829620  ...                  0.863751\n",
              "2019-08-01             0.852754  ...                  0.851824\n",
              "2019-09-01             0.960255  ...                  0.834014\n",
              "2019-10-01             1.075014  ...                  0.833168\n",
              "2019-11-01             1.073200  ...                  0.840143\n",
              "2019-12-01             1.000625  ...                  0.846343\n",
              "2020-01-01             0.882237  ...                  0.848389\n",
              "2020-02-01             0.893123  ...                  0.839980\n",
              "2020-03-01             0.829167  ...                  0.819049\n",
              "2020-04-01             0.789704  ...                  0.779534\n",
              "2020-05-01             0.762035  ...                  0.719793\n",
              "2020-06-01             0.811477  ...                  0.677876\n",
              "\n",
              "[12 rows x 4 columns]"
            ]
          },
          "metadata": {
            "tags": []
          },
          "execution_count": 68
        }
      ]
    },
    {
      "cell_type": "markdown",
      "metadata": {
        "id": "dflAYFfIlw8Z"
      },
      "source": [
        "In the original test data the prices start increasing and then decreased. Among all the model Gaussian processes had given better results by following the trend and giving prediction close to the true values."
      ]
    },
    {
      "cell_type": "markdown",
      "metadata": {
        "id": "XCmTjdiw20wo"
      },
      "source": [
        "**Brief Description:**\n",
        "\n",
        "SARIMAX which is the varient of ARIMA is used as a statistical model for predicting the steel prices for the given time series data. Time series decomposition is done to check the trend,seasonality and noise and then check whether the data is stationary by Augmented Dickey fuller test based on p value (There are another test ike Rolling mean and Std). If the data is not stationary then do differencing(one can also try by doing the log scale,smooting and averaging). If the data after differencing is stationary then d value is taken as no of lags. q and p values are obtaing by plotiing the Autocorrelation and Partical autocorrelation plots. Based on the parameters p,q,d we can fit the model with test data and make predictions.\n",
        "\n",
        "Gaussian Process Regressor is used as a machine learning model for predicting the steel prices. I tried using varience thresholding to remove the columns having zero varience. Here the kernal used are the product of constant kernal and RBF for prediction. Althouh it doesnot fit perfectly with the train data. The prediction for the test data are made correctly. From the plots it is very clear that it follows the trends correctly. Among all the other models in machine learning, Gaussial process regressor had given better result.\n",
        "\n",
        "LSTM are used as Deep learning model because it perform good if the data is in sequence. Here i used univariate and multivariate analysis. I had used the concept of sliding window where prediction are maded based on the past 2 years data. From the output plots we can see that it is following the trend of jumps. I had used Keras tunner to find the number of LSTM layers used for getting the better model. Both the univariate and Bivariate performed good in predicting the trend in the test data."
      ]
    }
  ]
}